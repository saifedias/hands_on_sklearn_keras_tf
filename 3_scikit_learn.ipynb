{
 "cells": [
  {
   "cell_type": "markdown",
   "metadata": {},
   "source": [
    "# scikit-learn"
   ]
  },
  {
   "cell_type": "markdown",
   "metadata": {},
   "source": [
    "### load modules"
   ]
  },
  {
   "cell_type": "code",
   "execution_count": null,
   "metadata": {},
   "outputs": [],
   "source": [
    "import pandas as pd\n",
    "import numpy as np\n",
    "import matplotlib.pyplot as plt\n",
    "%config InlineBackend.figure_format='retina'"
   ]
  },
  {
   "cell_type": "markdown",
   "metadata": {},
   "source": [
    "# read data"
   ]
  },
  {
   "cell_type": "code",
   "execution_count": null,
   "metadata": {},
   "outputs": [],
   "source": [
    "from sklearn import datasets\n",
    "\n",
    "data = datasets.load_iris()\n",
    "X, y = (data['data'], data['target'])\n",
    "\n",
    "pd.DataFrame(data = np.c_[data['data'], data['target']], columns = data['feature_names'] + ['target'])"
   ]
  },
  {
   "cell_type": "markdown",
   "metadata": {},
   "source": [
    "# scale data"
   ]
  },
  {
   "cell_type": "markdown",
   "metadata": {},
   "source": [
    "$$Z = \\frac{X - \\mu}{\\sigma}$$"
   ]
  },
  {
   "cell_type": "code",
   "execution_count": null,
   "metadata": {},
   "outputs": [],
   "source": [
    "from sklearn import preprocessing\n",
    "\n",
    "scaler = preprocessing.StandardScaler()\n",
    "X_scaled = scaler.fit_transform(X)\n",
    "\n",
    "fig, axs = plt.subplots(1, 2, figsize=(10, 5), sharex=True, sharey=True, dpi=150)\n",
    "for header, ax, i, names in zip([\"unscaled\", \"scaled\"], axs, [X, X_scaled], [[\"$x_1$\", \"$x_2$\"], [\"$z_1$\", \"$z_2$\"]]):\n",
    "    ax.set_title(header)\n",
    "    ax.scatter(i[:,0], i[:,1], color=\"cyan\", edgecolor=\"k\")\n",
    "    ax.set_xlabel(names[0])\n",
    "    ax.set_ylabel(names[1])\n",
    "    ax.grid(color=\"k\", alpha=0.1, zorder=0)\n",
    "plt.show()"
   ]
  },
  {
   "cell_type": "markdown",
   "metadata": {},
   "source": [
    "# split data into 2 subsets for training and testing"
   ]
  },
  {
   "cell_type": "code",
   "execution_count": null,
   "metadata": {},
   "outputs": [],
   "source": [
    "from sklearn.model_selection import train_test_split\n",
    "\n",
    "X_train, X_test, y_train, y_test = train_test_split(X_scaled, y, test_size=0.2, random_state=2)\n",
    "\n",
    "fig, axs = plt.subplots(1, 2, figsize=(10, 5), sharex=True, sharey=True, dpi=100)\n",
    "for header, ax, datas, colors in zip([\"Train\", \"Test\"], axs, [X_train, X_test], [y_train, y_test]):\n",
    "    ax.set_title(header)\n",
    "    ax.scatter(datas[:,0], datas[:,1], c=colors)\n",
    "    ax.set_xlabel(\"$z_1$\")\n",
    "    ax.set_ylabel(\"$z_2$\")\n",
    "    ax.grid(color=\"k\", alpha=0.1, zorder=0)\n",
    "plt.show()"
   ]
  },
  {
   "cell_type": "markdown",
   "metadata": {},
   "source": [
    "# find appropriate model-topology"
   ]
  },
  {
   "cell_type": "code",
   "execution_count": null,
   "metadata": {},
   "outputs": [],
   "source": [
    "from sklearn.linear_model import LogisticRegression\n",
    "from sklearn.model_selection import GridSearchCV, RepeatedStratifiedKFold\n",
    "\n",
    "hyper_params = {\"C\": [0.01, 0.1, 1., 10., 100.]}\n",
    "clf = GridSearchCV(LogisticRegression(), hyper_params, cv=RepeatedStratifiedKFold(n_splits=5, n_repeats=3))\n",
    "clf.fit(X_train, y_train)\n",
    "print(\"'Best' Hyperparameters for our task at hand: {}\".format(clf.best_params_))"
   ]
  },
  {
   "cell_type": "code",
   "execution_count": null,
   "metadata": {},
   "outputs": [],
   "source": [
    "fig, axs = plt.subplots(1, 2, figsize=(10, 5), sharex=True, sharey=True, dpi=100)\n",
    "for header, ax, y, sct in zip([\"True\", \"Predicted\"], axs, [y_test, clf.predict(X_test)], [\"Training\", \"Test\"]):\n",
    "    ax.set_title(header)\n",
    "    ax.scatter(X_test[:,0], X_test[:,1], c=y, s=75)\n",
    "    ax.grid(color=\"k\", alpha=0.1, zorder=0)\n",
    "plt.show()"
   ]
  },
  {
   "cell_type": "markdown",
   "metadata": {},
   "source": [
    "# testing our model with test-data"
   ]
  },
  {
   "cell_type": "code",
   "execution_count": null,
   "metadata": {},
   "outputs": [],
   "source": [
    "from sklearn.metrics import accuracy_score\n",
    "print(\"accuracy = {}\".format(accuracy_score(y_test, clf.predict(X_test)).round(2)))"
   ]
  },
  {
   "cell_type": "code",
   "execution_count": null,
   "metadata": {},
   "outputs": [],
   "source": []
  }
 ],
 "metadata": {
  "kernelspec": {
   "display_name": "Python 3",
   "language": "python",
   "name": "python3"
  },
  "language_info": {
   "codemirror_mode": {
    "name": "ipython",
    "version": 3
   },
   "file_extension": ".py",
   "mimetype": "text/x-python",
   "name": "python",
   "nbconvert_exporter": "python",
   "pygments_lexer": "ipython3",
   "version": "3.7.12"
  }
 },
 "nbformat": 4,
 "nbformat_minor": 5
}
