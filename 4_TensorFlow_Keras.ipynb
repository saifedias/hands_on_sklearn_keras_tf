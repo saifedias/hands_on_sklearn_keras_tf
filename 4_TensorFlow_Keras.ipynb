{
 "cells": [
  {
   "cell_type": "markdown",
   "metadata": {},
   "source": [
    "# TensorFlow & Keras"
   ]
  },
  {
   "cell_type": "markdown",
   "metadata": {},
   "source": [
    "TensorFlow (TF) is by far too low-level for our workshop $\\Rightarrow$ **using TF via Keras-API**\n",
    "\n",
    "TF: [homepage](https://www.tensorflow.org/), [wiki](https://en.wikipedia.org/wiki/TensorFlow)<br />\n",
    "Keras: [homepage](https://keras.io/), [wiki](https://en.wikipedia.org/wiki/Keras)<br />\n",
    "\n",
    "<span style=\"color:red\"> **IMPORTANT**: We are using TF 1.x</span>\n",
    "\n",
    "**Current Version: 2.x** <br />\n",
    "Differences are negligible for our workshop"
   ]
  },
  {
   "cell_type": "code",
   "execution_count": null,
   "metadata": {
    "scrolled": true
   },
   "outputs": [],
   "source": [
    "import warnings\n",
    "warnings.filterwarnings('ignore')\n",
    "import keras\n",
    "import tensorflow as tf\n",
    "import numpy as np\n",
    "import matplotlib.pyplot as plt"
   ]
  },
  {
   "cell_type": "markdown",
   "metadata": {},
   "source": [
    "# load MNIST-digit data"
   ]
  },
  {
   "cell_type": "code",
   "execution_count": null,
   "metadata": {},
   "outputs": [],
   "source": [
    "mnist = keras.datasets.mnist\n",
    "(X_train, y_train), (X_test, y_test) = mnist.load_data()\n",
    "\n",
    "# get data-shapes\n",
    "n_pics, n_rows, n_cols = X_train.shape\n",
    "needed_input_shape = n_rows*n_cols\n",
    "print(\"max value of X: {}\".format(X_train.max()))\n",
    "print(\"data-structure: {} X {} X {}\".format(n_pics, n_rows, n_cols))"
   ]
  },
  {
   "cell_type": "code",
   "execution_count": null,
   "metadata": {},
   "outputs": [],
   "source": [
    "X_train, X_test = X_train / X_train.max(), X_test / X_test.max()\n",
    "print(\"scaled max value of X: {}\".format(X_train.max()))"
   ]
  },
  {
   "cell_type": "code",
   "execution_count": null,
   "metadata": {},
   "outputs": [],
   "source": [
    "pics = [0, 1, 2, 3, 4]\n",
    "\n",
    "fig, axs = plt.subplots(1, len(pics), figsize=(3*len(pics), 3), sharey=True)\n",
    "for ax, pic in zip(axs, pics):\n",
    "    ax.set_title(\"Label: {}\".format(y_train[pic]))\n",
    "    ax.imshow(X_train[pic], cmap=\"gray_r\")\n",
    "plt.show()"
   ]
  },
  {
   "cell_type": "code",
   "execution_count": null,
   "metadata": {},
   "outputs": [],
   "source": [
    "to_predict = 5\n",
    "y_train, y_test = y_train == to_predict, y_test == to_predict"
   ]
  },
  {
   "cell_type": "code",
   "execution_count": null,
   "metadata": {},
   "outputs": [],
   "source": [
    "pics = [0, 1, 2, 3, 4]\n",
    "\n",
    "fig, axs = plt.subplots(1, len(pics), figsize=(3*len(pics), 3), sharey=True)\n",
    "for ax, pic in zip(axs, pics):\n",
    "    ax.set_title(\"Label: {}\".format(y_train[pic]))\n",
    "    ax.imshow(X_train[pic], cmap=\"gray_r\")\n",
    "plt.show()"
   ]
  },
  {
   "cell_type": "markdown",
   "metadata": {},
   "source": [
    "# define (simple) neuronal network"
   ]
  },
  {
   "cell_type": "markdown",
   "metadata": {},
   "source": [
    "we are using:\n",
    "- the model: [Sequential](https://keras.io/guides/sequential_model/)\n",
    "- the layer: [Dense](https://keras.io/api/layers/core_layers/dense/)"
   ]
  },
  {
   "cell_type": "code",
   "execution_count": null,
   "metadata": {},
   "outputs": [],
   "source": [
    "from keras.models import Sequential\n",
    "from keras.layers import Dense"
   ]
  },
  {
   "cell_type": "code",
   "execution_count": null,
   "metadata": {},
   "outputs": [],
   "source": [
    "model = Sequential()\n",
    "\n",
    "# first hidden layer\n",
    "model.add(Dense(5, activation=\"tanh\", input_shape=(needed_input_shape,)))\n",
    "#model.add(Dense(10, activation=\"relu\"))\n",
    "\n",
    "# output layer\n",
    "model.add(Dense(1, activation=\"sigmoid\", name=\"layer_out\"))\n",
    "\n",
    "model.compile(optimizer=\"sgd\", loss=\"binary_crossentropy\", metrics=[\"accuracy\"])\n",
    "\n",
    "model.summary()"
   ]
  },
  {
   "cell_type": "markdown",
   "metadata": {},
   "source": [
    "# train the model"
   ]
  },
  {
   "cell_type": "code",
   "execution_count": null,
   "metadata": {},
   "outputs": [],
   "source": [
    "model.fit(X_train.reshape(-1, needed_input_shape), y_train, epochs=10, batch_size=200)"
   ]
  },
  {
   "cell_type": "markdown",
   "metadata": {},
   "source": [
    "# accuracies (of predicting train- and test-data)"
   ]
  },
  {
   "cell_type": "code",
   "execution_count": null,
   "metadata": {},
   "outputs": [],
   "source": [
    "y_pred_train = model.predict(X_train.reshape(-1, needed_input_shape)).ravel().round()\n",
    "y_pred_test = model.predict(X_test.reshape(-1, needed_input_shape)).ravel().round()\n",
    "\n",
    "print(\"train accuracy: {}\".format(np.mean(y_pred_train == y_train).round(2)))\n",
    "print(\"test accuracy: {}\".format(np.mean(y_pred_test == y_test).round(2)))"
   ]
  },
  {
   "cell_type": "code",
   "execution_count": null,
   "metadata": {},
   "outputs": [],
   "source": []
  }
 ],
 "metadata": {
  "kernelspec": {
   "display_name": "Python 3",
   "language": "python",
   "name": "python3"
  },
  "language_info": {
   "codemirror_mode": {
    "name": "ipython",
    "version": 3
   },
   "file_extension": ".py",
   "mimetype": "text/x-python",
   "name": "python",
   "nbconvert_exporter": "python",
   "pygments_lexer": "ipython3",
   "version": "3.7.12"
  }
 },
 "nbformat": 4,
 "nbformat_minor": 5
}
