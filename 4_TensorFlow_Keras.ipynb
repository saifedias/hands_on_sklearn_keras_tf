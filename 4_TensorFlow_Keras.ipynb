{
 "cells": [
  {
   "cell_type": "markdown",
   "id": "fdd7276a",
   "metadata": {},
   "source": [
    "# TensorFlow & Keras"
   ]
  },
  {
   "cell_type": "markdown",
   "id": "b2b643bc",
   "metadata": {},
   "source": [
    "TensorFlow (TF) is by far too low-level for our workshop $\\Rightarrow$ using TF via Keras-API\n",
    "\n",
    "<span style=\"color:red\"> **IMPORTANT**: We are using TF 1.x text</span>\n",
    "\n",
    "**Current Version: 2.x** <br />\n",
    "Differences are negligible for our workshop"
   ]
  },
  {
   "cell_type": "code",
   "execution_count": 1,
   "id": "58336742",
   "metadata": {
    "scrolled": true
   },
   "outputs": [
    {
     "ename": "ModuleNotFoundError",
     "evalue": "No module named 'keras'",
     "output_type": "error",
     "traceback": [
      "\u001b[1;31m---------------------------------------------------------------------------\u001b[0m",
      "\u001b[1;31mModuleNotFoundError\u001b[0m                       Traceback (most recent call last)",
      "\u001b[1;32m~\\AppData\\Local\\Temp\\ipykernel_13848\\407833385.py\u001b[0m in \u001b[0;36m<cell line: 3>\u001b[1;34m()\u001b[0m\n\u001b[0;32m      1\u001b[0m \u001b[1;32mimport\u001b[0m \u001b[0mwarnings\u001b[0m\u001b[1;33m\u001b[0m\u001b[1;33m\u001b[0m\u001b[0m\n\u001b[0;32m      2\u001b[0m \u001b[0mwarnings\u001b[0m\u001b[1;33m.\u001b[0m\u001b[0mfilterwarnings\u001b[0m\u001b[1;33m(\u001b[0m\u001b[1;34m'ignore'\u001b[0m\u001b[1;33m)\u001b[0m\u001b[1;33m\u001b[0m\u001b[1;33m\u001b[0m\u001b[0m\n\u001b[1;32m----> 3\u001b[1;33m \u001b[1;32mimport\u001b[0m \u001b[0mkeras\u001b[0m\u001b[1;33m\u001b[0m\u001b[1;33m\u001b[0m\u001b[0m\n\u001b[0m\u001b[0;32m      4\u001b[0m \u001b[1;32mimport\u001b[0m \u001b[0mtensorflow\u001b[0m \u001b[1;32mas\u001b[0m \u001b[0mtf\u001b[0m\u001b[1;33m\u001b[0m\u001b[1;33m\u001b[0m\u001b[0m\n\u001b[0;32m      5\u001b[0m \u001b[1;32mimport\u001b[0m \u001b[0mnumpy\u001b[0m \u001b[1;32mas\u001b[0m \u001b[0mnp\u001b[0m\u001b[1;33m\u001b[0m\u001b[1;33m\u001b[0m\u001b[0m\n",
      "\u001b[1;31mModuleNotFoundError\u001b[0m: No module named 'keras'"
     ]
    }
   ],
   "source": [
    "import warnings\n",
    "warnings.filterwarnings('ignore')\n",
    "import keras\n",
    "import tensorflow as tf\n",
    "import numpy as np\n",
    "import matplotlib.pyplot as plt"
   ]
  },
  {
   "cell_type": "markdown",
   "id": "d68f3c54",
   "metadata": {},
   "source": [
    "# load MNIST-digit data"
   ]
  },
  {
   "cell_type": "code",
   "execution_count": null,
   "id": "4bfb60e4",
   "metadata": {},
   "outputs": [],
   "source": [
    "mnist = keras.datasets.mnist\n",
    "(X_train, y_train), (X_test, y_test) = mnist.load_data()\n",
    "\n",
    "# get data-shapes\n",
    "n_pics, n_rows, n_cols = X_train.shape\n",
    "needed_input_shape = n_rows*n_cols\n",
    "print(\"max value of X: {}\".format(X_train.max()))\n",
    "print(\"data-structure: {} X {} X {}\".format(n_pics, n_rows, n_cols))"
   ]
  },
  {
   "cell_type": "code",
   "execution_count": null,
   "id": "62c156e8",
   "metadata": {},
   "outputs": [],
   "source": [
    "X_train, X_test = X_train / X_train.max(), X_test / X_test.max()\n",
    "print(\"scaled max value of X: {}\".format(X_train.max()))"
   ]
  },
  {
   "cell_type": "code",
   "execution_count": null,
   "id": "cdc088db",
   "metadata": {},
   "outputs": [],
   "source": [
    "pics = [0, 1, 2, 3, 4]\n",
    "\n",
    "fig, axs = plt.subplots(1, len(pics), figsize=(3*len(pics), 3), sharey=True)\n",
    "for ax, pic in zip(axs, pics):\n",
    "    ax.set_title(\"Label: {}\".format(y_train[pic]))\n",
    "    ax.imshow(X_train[pic], cmap=\"gray_r\")\n",
    "plt.show()"
   ]
  },
  {
   "cell_type": "code",
   "execution_count": null,
   "id": "bc9b9d73",
   "metadata": {},
   "outputs": [],
   "source": [
    "to_predict = 5\n",
    "y_train, y_test = y_train == to_predict, y_test == to_predict"
   ]
  },
  {
   "cell_type": "code",
   "execution_count": null,
   "id": "c5db9643",
   "metadata": {},
   "outputs": [],
   "source": [
    "pics = [0, 1, 2, 3, 4]\n",
    "\n",
    "fig, axs = plt.subplots(1, len(pics), figsize=(3*len(pics), 3), sharey=True)\n",
    "for ax, pic in zip(axs, pics):\n",
    "    ax.set_title(\"Label: {}\".format(y_train[pic]))\n",
    "    ax.imshow(X_train[pic], cmap=\"gray_r\")\n",
    "plt.show()"
   ]
  },
  {
   "cell_type": "markdown",
   "id": "11c54c69",
   "metadata": {},
   "source": [
    "# define (simple) neuronal network"
   ]
  },
  {
   "cell_type": "markdown",
   "id": "a8d60569",
   "metadata": {},
   "source": [
    "we are using:\n",
    "- the model: [Sequential](https://keras.io/guides/sequential_model/)\n",
    "- the layer: [Dense](https://keras.io/api/layers/core_layers/dense/)"
   ]
  },
  {
   "cell_type": "code",
   "execution_count": null,
   "id": "9729ad01",
   "metadata": {},
   "outputs": [],
   "source": [
    "from keras.models import Sequential\n",
    "from keras.layers import Dense"
   ]
  },
  {
   "cell_type": "code",
   "execution_count": null,
   "id": "02edfcd5",
   "metadata": {},
   "outputs": [],
   "source": [
    "model = Sequential()\n",
    "\n",
    "# first hidden layer\n",
    "model.add(Dense(5, activation=\"tanh\", input_shape=(needed_input_shape,)))\n",
    "#model.add(Dense(10, activation=\"relu\"))\n",
    "\n",
    "# output layer\n",
    "model.add(Dense(1, activation=\"sigmoid\", name=\"layer_out\"))\n",
    "\n",
    "model.compile(optimizer=\"sgd\", loss=\"binary_crossentropy\", metrics=[\"accuracy\"])\n",
    "\n",
    "model.summary()"
   ]
  },
  {
   "cell_type": "markdown",
   "id": "e3abe9f7",
   "metadata": {},
   "source": [
    "# train the model"
   ]
  },
  {
   "cell_type": "code",
   "execution_count": 2,
   "id": "b791ccd4",
   "metadata": {},
   "outputs": [
    {
     "ename": "NameError",
     "evalue": "name 'model' is not defined",
     "output_type": "error",
     "traceback": [
      "\u001b[1;31m---------------------------------------------------------------------------\u001b[0m",
      "\u001b[1;31mNameError\u001b[0m                                 Traceback (most recent call last)",
      "\u001b[1;32m~\\AppData\\Local\\Temp\\ipykernel_13848\\295155047.py\u001b[0m in \u001b[0;36m<cell line: 1>\u001b[1;34m()\u001b[0m\n\u001b[1;32m----> 1\u001b[1;33m \u001b[0mmodel\u001b[0m\u001b[1;33m.\u001b[0m\u001b[0mfit\u001b[0m\u001b[1;33m(\u001b[0m\u001b[0mX_train\u001b[0m\u001b[1;33m.\u001b[0m\u001b[0mreshape\u001b[0m\u001b[1;33m(\u001b[0m\u001b[1;33m-\u001b[0m\u001b[1;36m1\u001b[0m\u001b[1;33m,\u001b[0m \u001b[0mneeded_input_shape\u001b[0m\u001b[1;33m)\u001b[0m\u001b[1;33m,\u001b[0m \u001b[0my_train\u001b[0m\u001b[1;33m,\u001b[0m \u001b[0mepochs\u001b[0m\u001b[1;33m=\u001b[0m\u001b[1;36m10\u001b[0m\u001b[1;33m,\u001b[0m \u001b[0mbatch_size\u001b[0m\u001b[1;33m=\u001b[0m\u001b[1;36m200\u001b[0m\u001b[1;33m)\u001b[0m\u001b[1;33m\u001b[0m\u001b[1;33m\u001b[0m\u001b[0m\n\u001b[0m",
      "\u001b[1;31mNameError\u001b[0m: name 'model' is not defined"
     ]
    }
   ],
   "source": [
    "model.fit(X_train.reshape(-1, needed_input_shape), y_train, epochs=10, batch_size=200)"
   ]
  },
  {
   "cell_type": "markdown",
   "id": "93969db4",
   "metadata": {},
   "source": [
    "# accuracies (of predicting train- and test-data)"
   ]
  },
  {
   "cell_type": "code",
   "execution_count": null,
   "id": "6b318b87",
   "metadata": {},
   "outputs": [],
   "source": [
    "y_pred_train = model.predict(X_train.reshape(-1, needed_input_shape)).ravel().round()\n",
    "y_pred_test = model.predict(X_test.reshape(-1, needed_input_shape)).ravel().round()\n",
    "\n",
    "print(\"train accuracy: {}\".format(np.mean(y_pred_train == y_train).round(2)))\n",
    "print(\"test accuracy: {}\".format(np.mean(y_pred_test == y_test).round(2)))"
   ]
  },
  {
   "cell_type": "code",
   "execution_count": null,
   "id": "12aeafdf",
   "metadata": {},
   "outputs": [],
   "source": []
  }
 ],
 "metadata": {
  "kernelspec": {
   "display_name": "Python 3 (ipykernel)",
   "language": "python",
   "name": "python3"
  },
  "language_info": {
   "codemirror_mode": {
    "name": "ipython",
    "version": 3
   },
   "file_extension": ".py",
   "mimetype": "text/x-python",
   "name": "python",
   "nbconvert_exporter": "python",
   "pygments_lexer": "ipython3",
   "version": "3.9.10"
  }
 },
 "nbformat": 4,
 "nbformat_minor": 5
}
