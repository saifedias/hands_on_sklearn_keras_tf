{
 "cells": [
  {
   "cell_type": "markdown",
   "id": "fdd7276a",
   "metadata": {},
   "source": [
    "# TensorFlow & Keras"
   ]
  },
  {
   "cell_type": "markdown",
   "id": "b2b643bc",
   "metadata": {},
   "source": [
    "TensorFlow ist für hier zu low-level, wir bedienen TF über die API Keras\n",
    "\n",
    "<span style=\"color:red\"> **WICHTIG**: Hier wird TF 1.x genutzt. text</span>\n",
    "\n",
    "**Aktuelle Version: 2.x** <br />\n",
    "Die Unterschiede sind für das Beispiel hier aber irrelevant (nur die Syntax unterscheidet sich leicht)"
   ]
  },
  {
   "cell_type": "code",
   "execution_count": null,
   "id": "58336742",
   "metadata": {
    "scrolled": true
   },
   "outputs": [],
   "source": [
    "import warnings\n",
    "warnings.filterwarnings('ignore')\n",
    "import keras\n",
    "import tensorflow as tf\n",
    "import numpy as np\n",
    "import matplotlib.pyplot as plt"
   ]
  },
  {
   "cell_type": "markdown",
   "id": "d68f3c54",
   "metadata": {},
   "source": [
    "# MNIST-digit Daten laden"
   ]
  },
  {
   "cell_type": "code",
   "execution_count": null,
   "id": "4bfb60e4",
   "metadata": {},
   "outputs": [],
   "source": [
    "mnist = keras.datasets.mnist\n",
    "(X_train, y_train), (X_test, y_test) = mnist.load_data()\n",
    "\n",
    "# get data-shapes\n",
    "n_pics, n_rows, n_cols = X_train.shape\n",
    "needed_input_shape = n_rows*n_cols\n",
    "print(\"Maximalwert von X: {}\".format(X_train.max()))\n",
    "print(\"Daten-Struktur: {} X {} X {}\".format(n_pics, n_rows, n_cols))"
   ]
  },
  {
   "cell_type": "code",
   "execution_count": null,
   "id": "62c156e8",
   "metadata": {},
   "outputs": [],
   "source": [
    "X_train, X_test = X_train / X_train.max(), X_test / X_test.max()\n",
    "print(\"skalierter Maximalwert von X: {}\".format(X_train.max()))"
   ]
  },
  {
   "cell_type": "code",
   "execution_count": null,
   "id": "cdc088db",
   "metadata": {},
   "outputs": [],
   "source": [
    "pics = [0, 1, 2, 3, 4]\n",
    "\n",
    "fig, axs = plt.subplots(1, len(pics), figsize=(3*len(pics), 3), sharey=True)\n",
    "for ax, pic in zip(axs, pics):\n",
    "    ax.set_title(\"Label: {}\".format(y_train[pic]))\n",
    "    ax.imshow(X_train[pic], cmap=\"gray_r\")\n",
    "plt.show()"
   ]
  },
  {
   "cell_type": "code",
   "execution_count": null,
   "id": "bc9b9d73",
   "metadata": {},
   "outputs": [],
   "source": [
    "to_predict = 5\n",
    "y_train, y_test = y_train == to_predict, y_test == to_predict"
   ]
  },
  {
   "cell_type": "code",
   "execution_count": null,
   "id": "c5db9643",
   "metadata": {},
   "outputs": [],
   "source": [
    "pics = [0, 1, 2, 3, 4]\n",
    "\n",
    "fig, axs = plt.subplots(1, len(pics), figsize=(3*len(pics), 3), sharey=True)\n",
    "for ax, pic in zip(axs, pics):\n",
    "    ax.set_title(\"Label: {}\".format(y_train[pic]))\n",
    "    ax.imshow(X_train[pic], cmap=\"gray_r\")\n",
    "plt.show()"
   ]
  },
  {
   "cell_type": "markdown",
   "id": "11c54c69",
   "metadata": {},
   "source": [
    "# Neuronales Netz definieren"
   ]
  },
  {
   "cell_type": "markdown",
   "id": "a8d60569",
   "metadata": {},
   "source": [
    "Wir verwenden hier:\n",
    "- das Model: [Sequential](https://keras.io/guides/sequential_model/)\n",
    "- die Layer: [Dense](https://keras.io/api/layers/core_layers/dense/)"
   ]
  },
  {
   "cell_type": "code",
   "execution_count": null,
   "id": "9729ad01",
   "metadata": {},
   "outputs": [],
   "source": [
    "from keras.models import Sequential\n",
    "from keras.layers import Dense"
   ]
  },
  {
   "cell_type": "code",
   "execution_count": null,
   "id": "02edfcd5",
   "metadata": {},
   "outputs": [],
   "source": [
    "model = Sequential()\n",
    "\n",
    "# first hidden layer\n",
    "model.add(Dense(5, activation=\"tanh\", input_shape=(needed_input_shape,)))\n",
    "#model.add(Dense(10, activation=\"relu\"))\n",
    "\n",
    "# output layer\n",
    "model.add(Dense(1, activation=\"sigmoid\", name=\"layer_out\"))\n",
    "\n",
    "model.compile(optimizer=\"sgd\", loss=\"binary_crossentropy\", metrics=[\"accuracy\"])\n",
    "\n",
    "model.summary()"
   ]
  },
  {
   "cell_type": "markdown",
   "id": "e3abe9f7",
   "metadata": {},
   "source": [
    "# ANN trainieren"
   ]
  },
  {
   "cell_type": "code",
   "execution_count": null,
   "id": "b791ccd4",
   "metadata": {},
   "outputs": [],
   "source": [
    "model.fit(X_train.reshape(-1, needed_input_shape), y_train, epochs=10, batch_size=200)"
   ]
  },
  {
   "cell_type": "code",
   "execution_count": null,
   "id": "6b318b87",
   "metadata": {},
   "outputs": [],
   "source": [
    "y_pred_train = model.predict(X_train.reshape(-1, needed_input_shape)).ravel().round()\n",
    "y_pred_test = model.predict(X_test.reshape(-1, needed_input_shape)).ravel().round()\n",
    "\n",
    "print(\"train accuracy: {}\".format(np.mean(y_pred_train == y_train).round(2)))\n",
    "print(\"test accuracy: {}\".format(np.mean(y_pred_test == y_test).round(2)))"
   ]
  },
  {
   "cell_type": "code",
   "execution_count": null,
   "id": "12aeafdf",
   "metadata": {},
   "outputs": [],
   "source": []
  }
 ],
 "metadata": {
  "kernelspec": {
   "display_name": "Python 3 (ipykernel)",
   "language": "python",
   "name": "python3"
  },
  "language_info": {
   "codemirror_mode": {
    "name": "ipython",
    "version": 3
   },
   "file_extension": ".py",
   "mimetype": "text/x-python",
   "name": "python",
   "nbconvert_exporter": "python",
   "pygments_lexer": "ipython3",
   "version": "3.9.10"
  }
 },
 "nbformat": 4,
 "nbformat_minor": 5
}
